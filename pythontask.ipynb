{
  "nbformat": 4,
  "nbformat_minor": 0,
  "metadata": {
    "colab": {
      "provenance": [],
      "authorship_tag": "ABX9TyPa8AUFO0wP7brBF2PtjM/r",
      "include_colab_link": true
    },
    "kernelspec": {
      "name": "python3",
      "display_name": "Python 3"
    },
    "language_info": {
      "name": "python"
    }
  },
  "cells": [
    {
      "cell_type": "markdown",
      "metadata": {
        "id": "view-in-github",
        "colab_type": "text"
      },
      "source": [
        "<a href=\"https://colab.research.google.com/github/anusmriti-cyber/python_hiring_task_1/blob/main/pythontask.ipynb\" target=\"_parent\"><img src=\"https://colab.research.google.com/assets/colab-badge.svg\" alt=\"Open In Colab\"/></a>"
      ]
    },
    {
      "cell_type": "code",
      "source": [
        "# Install dependencies first (run this once)\n",
        "!pip install pillow reportlab\n",
        "\n",
        "import os\n",
        "import random\n",
        "from PIL import Image, ImageDraw, ImageFont\n",
        "from reportlab.pdfgen import canvas\n",
        "from reportlab.lib.pagesizes import A4\n",
        "\n",
        "# -----------------------------\n",
        "# Part 1: Generate Random Images\n",
        "# -----------------------------\n",
        "SHAPES = [\"rectangle\", \"ellipse\", \"triangle\", \"line\"]\n",
        "\n",
        "def draw_one_shape(draw, width, height):\n",
        "    shape_type = random.choice(SHAPES)\n",
        "    pad_w, pad_h = int(width*0.1), int(height*0.1)\n",
        "\n",
        "    x1 = random.randint(pad_w, int(width*0.3))\n",
        "    y1 = random.randint(pad_h, int(height*0.3))\n",
        "    x2 = random.randint(int(width*0.7), width - pad_w)\n",
        "    y2 = random.randint(int(height*0.7), height - pad_h)\n",
        "\n",
        "    fill_color = tuple(random.randint(60,220) for _ in range(3)) + (180,)\n",
        "    outline_color = tuple(random.randint(0,120) for _ in range(3)) + (255,)\n",
        "    outline_width = max(2, int(min(width,height)*0.02))\n",
        "\n",
        "    if shape_type == \"rectangle\":\n",
        "        draw.rectangle([x1, y1, x2, y2], fill=fill_color, outline=outline_color, width=outline_width)\n",
        "    elif shape_type == \"ellipse\":\n",
        "        draw.ellipse([x1, y1, x2, y2], fill=fill_color, outline=outline_color, width=outline_width)\n",
        "    elif shape_type == \"triangle\":\n",
        "        points = [(random.randint(x1, x2), y1), (x1, y2), (x2, y2)]\n",
        "        draw.polygon(points, fill=fill_color, outline=outline_color)\n",
        "    elif shape_type == \"line\":\n",
        "        draw.line([(x1, y1),(x2,y2)], fill=outline_color, width=outline_width*2)\n",
        "\n",
        "def generate_transparent_images(output_dir=\"input_images\", count=50, min_w=200, max_w=800, min_h=200, max_h=1000):\n",
        "    os.makedirs(output_dir, exist_ok=True)\n",
        "    try:\n",
        "        font = ImageFont.truetype(\"arial.ttf\", 24)\n",
        "    except:\n",
        "        font = ImageFont.load_default()\n",
        "\n",
        "    for i in range(1, count+1):\n",
        "        width = random.randint(min_w, max_w)\n",
        "        height = random.randint(min_h, max_h)\n",
        "\n",
        "        img = Image.new(\"RGBA\", (width, height), (0,0,0,0))\n",
        "        draw = ImageDraw.Draw(img, \"RGBA\")\n",
        "        draw_one_shape(draw, width, height)\n",
        "\n",
        "        fname = os.path.join(output_dir, f\"img_{i:02d}.png\")\n",
        "        img.save(fname, \"PNG\")\n",
        "    print(f\"✅ Generated {count} images in '{output_dir}'.\")\n",
        "\n",
        "# -----------------------------\n",
        "# Part 2: Preprocess Images\n",
        "# -----------------------------\n",
        "def preprocess_image(image_path):\n",
        "    img = Image.open(image_path).convert(\"RGBA\")\n",
        "    bg = Image.new(\"RGBA\", img.size, (255,255,255,255))\n",
        "    img = Image.alpha_composite(bg, img)\n",
        "    bbox = img.getbbox()\n",
        "    if bbox:\n",
        "        img = img.crop(bbox)\n",
        "    return img.convert(\"RGB\")\n",
        "\n",
        "# -----------------------------\n",
        "# Part 3: Generate PDF (Grid Packing)\n",
        "# -----------------------------\n",
        "def generate_pdf(input_dir=\"input_images\", output_pdf=\"output.pdf\", page_size=A4, cols=3, rows=4, margin=10):\n",
        "    c = canvas.Canvas(output_pdf, pagesize=page_size)\n",
        "    page_width, page_height = page_size\n",
        "\n",
        "    # Compute cell size\n",
        "    cell_w = (page_width - (cols+1)*margin)/cols\n",
        "    cell_h = (page_height - (rows+1)*margin)/rows\n",
        "\n",
        "    image_files = [f for f in os.listdir(input_dir) if f.lower().endswith(('.png','.jpg','.jpeg'))]\n",
        "    image_files.sort()  # optional, to keep order\n",
        "\n",
        "    idx = 0\n",
        "    total = len(image_files)\n",
        "\n",
        "    while idx < total:\n",
        "        for r in range(rows):\n",
        "            for c_idx in range(cols):\n",
        "                if idx >= total:\n",
        "                    break\n",
        "                img_path = os.path.join(input_dir, image_files[idx])\n",
        "                img = preprocess_image(img_path)\n",
        "                w, h = img.size\n",
        "\n",
        "                # Scale to fit cell\n",
        "                scale = min(cell_w/w, cell_h/h)\n",
        "                w_scaled, h_scaled = int(w*scale), int(h*scale)\n",
        "\n",
        "                # Compute x, y position\n",
        "                x = margin + c_idx*(cell_w + margin) + (cell_w - w_scaled)/2\n",
        "                y = margin + r*(cell_h + margin) + (cell_h - h_scaled)/2\n",
        "\n",
        "                # ReportLab y-origin is bottom-left\n",
        "                c.drawImage(img_path, x, page_height - y - h_scaled, width=w_scaled, height=h_scaled)\n",
        "                idx += 1\n",
        "        c.showPage()  # next page\n",
        "    c.save()\n",
        "    print(f\"✅ PDF generated: {output_pdf}\")\n",
        "\n",
        "# -----------------------------\n",
        "# Part 4: Run Everything\n",
        "# -----------------------------\n",
        "generate_transparent_images(count=50)\n",
        "generate_pdf()\n"
      ],
      "metadata": {
        "colab": {
          "base_uri": "https://localhost:8080/"
        },
        "id": "lcJGMQdFCasi",
        "outputId": "7dbc69fa-499d-49af-d125-37d5fd074908"
      },
      "execution_count": 18,
      "outputs": [
        {
          "output_type": "stream",
          "name": "stdout",
          "text": [
            "Requirement already satisfied: pillow in /usr/local/lib/python3.12/dist-packages (11.3.0)\n",
            "Requirement already satisfied: reportlab in /usr/local/lib/python3.12/dist-packages (4.4.4)\n",
            "Requirement already satisfied: charset-normalizer in /usr/local/lib/python3.12/dist-packages (from reportlab) (3.4.4)\n",
            "✅ Generated 50 images in 'input_images'.\n",
            "✅ PDF generated: output.pdf\n"
          ]
        }
      ]
    },
    {
      "cell_type": "code",
      "source": [
        "# Call the PDF generation function\n",
        "generate_pdf(input_dir=\"input_images\", output_pdf=\"output.pdf\", page_size=A4, cols=3, rows=4, margin=10)\n"
      ],
      "metadata": {
        "colab": {
          "base_uri": "https://localhost:8080/"
        },
        "id": "hPh4F1T7CelR",
        "outputId": "3ee5b100-3ed0-4997-96c0-80102878f971"
      },
      "execution_count": 19,
      "outputs": [
        {
          "output_type": "stream",
          "name": "stdout",
          "text": [
            "✅ PDF generated: output.pdf\n"
          ]
        }
      ]
    },
    {
      "cell_type": "code",
      "source": [
        "from google.colab import files\n",
        "\n",
        "# This will give you a clickable download link\n",
        "files.download(\"output.pdf\")\n"
      ],
      "metadata": {
        "colab": {
          "base_uri": "https://localhost:8080/",
          "height": 17
        },
        "id": "4VLEoUvfCu4T",
        "outputId": "ad6aa612-fa6d-44a7-bdc5-76fb4effb4df"
      },
      "execution_count": 20,
      "outputs": [
        {
          "output_type": "display_data",
          "data": {
            "text/plain": [
              "<IPython.core.display.Javascript object>"
            ],
            "application/javascript": [
              "\n",
              "    async function download(id, filename, size) {\n",
              "      if (!google.colab.kernel.accessAllowed) {\n",
              "        return;\n",
              "      }\n",
              "      const div = document.createElement('div');\n",
              "      const label = document.createElement('label');\n",
              "      label.textContent = `Downloading \"${filename}\": `;\n",
              "      div.appendChild(label);\n",
              "      const progress = document.createElement('progress');\n",
              "      progress.max = size;\n",
              "      div.appendChild(progress);\n",
              "      document.body.appendChild(div);\n",
              "\n",
              "      const buffers = [];\n",
              "      let downloaded = 0;\n",
              "\n",
              "      const channel = await google.colab.kernel.comms.open(id);\n",
              "      // Send a message to notify the kernel that we're ready.\n",
              "      channel.send({})\n",
              "\n",
              "      for await (const message of channel.messages) {\n",
              "        // Send a message to notify the kernel that we're ready.\n",
              "        channel.send({})\n",
              "        if (message.buffers) {\n",
              "          for (const buffer of message.buffers) {\n",
              "            buffers.push(buffer);\n",
              "            downloaded += buffer.byteLength;\n",
              "            progress.value = downloaded;\n",
              "          }\n",
              "        }\n",
              "      }\n",
              "      const blob = new Blob(buffers, {type: 'application/binary'});\n",
              "      const a = document.createElement('a');\n",
              "      a.href = window.URL.createObjectURL(blob);\n",
              "      a.download = filename;\n",
              "      div.appendChild(a);\n",
              "      a.click();\n",
              "      div.remove();\n",
              "    }\n",
              "  "
            ]
          },
          "metadata": {}
        },
        {
          "output_type": "display_data",
          "data": {
            "text/plain": [
              "<IPython.core.display.Javascript object>"
            ],
            "application/javascript": [
              "download(\"download_3fc99bf1-7ba5-4940-85bc-55134c749291\", \"output.pdf\", 154016)"
            ]
          },
          "metadata": {}
        }
      ]
    }
  ]
}